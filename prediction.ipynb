{
 "cells": [
  {
   "cell_type": "code",
   "execution_count": 2,
   "metadata": {},
   "outputs": [
    {
     "name": "stderr",
     "output_type": "stream",
     "text": [
      "WARNING:root:Limited tf.compat.v2.summary API due to missing TensorBoard installation.\n",
      "WARNING:root:Limited tf.compat.v2.summary API due to missing TensorBoard installation.\n",
      "WARNING:root:Limited tf.compat.v2.summary API due to missing TensorBoard installation.\n",
      "WARNING:root:Limited tf.summary API due to missing TensorBoard installation.\n",
      "WARNING:root:Limited tf.compat.v2.summary API due to missing TensorBoard installation.\n"
     ]
    },
    {
     "name": "stdout",
     "output_type": "stream",
     "text": [
      "WARNING:tensorflow:From c:\\Users\\rachi\\Desktop\\coding\\UDEMY\\venv\\Lib\\site-packages\\keras\\src\\losses.py:2976: The name tf.losses.sparse_softmax_cross_entropy is deprecated. Please use tf.compat.v1.losses.sparse_softmax_cross_entropy instead.\n",
      "\n"
     ]
    },
    {
     "name": "stderr",
     "output_type": "stream",
     "text": [
      "WARNING:tensorflow:From c:\\Users\\rachi\\Desktop\\coding\\UDEMY\\venv\\Lib\\site-packages\\keras\\src\\losses.py:2976: The name tf.losses.sparse_softmax_cross_entropy is deprecated. Please use tf.compat.v1.losses.sparse_softmax_cross_entropy instead.\n",
      "\n"
     ]
    }
   ],
   "source": [
    "import numpy as np \n",
    "import tensorflow as tf\n",
    "from tensorflow.keras.models import Sequential, load_model\n",
    "from tensorflow.keras.layers import Dense, Embedding, SimpleRNN\n",
    "from tensorflow.keras.preprocessing import sequence\n",
    "from tensorflow.keras.datasets import imdb\n"
   ]
  },
  {
   "cell_type": "code",
   "execution_count": 3,
   "metadata": {},
   "outputs": [],
   "source": [
    "word_index=imdb.get_word_index()\n",
    "reverse_word_index={value:key for key, value in word_index.items()}\n"
   ]
  },
  {
   "cell_type": "code",
   "execution_count": 4,
   "metadata": {},
   "outputs": [
    {
     "name": "stdout",
     "output_type": "stream",
     "text": [
      "WARNING:tensorflow:From c:\\Users\\rachi\\Desktop\\coding\\UDEMY\\venv\\Lib\\site-packages\\keras\\src\\backend.py:1398: The name tf.executing_eagerly_outside_functions is deprecated. Please use tf.compat.v1.executing_eagerly_outside_functions instead.\n",
      "\n"
     ]
    },
    {
     "name": "stderr",
     "output_type": "stream",
     "text": [
      "WARNING:tensorflow:From c:\\Users\\rachi\\Desktop\\coding\\UDEMY\\venv\\Lib\\site-packages\\keras\\src\\backend.py:1398: The name tf.executing_eagerly_outside_functions is deprecated. Please use tf.compat.v1.executing_eagerly_outside_functions instead.\n",
      "\n"
     ]
    },
    {
     "name": "stdout",
     "output_type": "stream",
     "text": [
      "Model: \"sequential_1\"\n",
      "_________________________________________________________________\n",
      " Layer (type)                Output Shape              Param #   \n",
      "=================================================================\n",
      " embedding_1 (Embedding)     (None, 500, 128)          1280000   \n",
      "                                                                 \n",
      " simple_rnn (SimpleRNN)      (None, 128)               32896     \n",
      "                                                                 \n",
      " dense (Dense)               (None, 1)                 129       \n",
      "                                                                 \n",
      "=================================================================\n",
      "Total params: 1313025 (5.01 MB)\n",
      "Trainable params: 1313025 (5.01 MB)\n",
      "Non-trainable params: 0 (0.00 Byte)\n",
      "_________________________________________________________________\n"
     ]
    }
   ],
   "source": [
    "model=load_model('simple_rnn_imdb.h5')\n",
    "model.summary()"
   ]
  },
  {
   "cell_type": "code",
   "execution_count": 5,
   "metadata": {},
   "outputs": [
    {
     "data": {
      "text/plain": [
       "[array([[-0.02742861, -0.02434702, -0.05021436, ...,  0.03961711,\n",
       "         -0.04703724,  0.03286892],\n",
       "        [-0.03436599,  0.01505621, -0.12438802, ..., -0.00914044,\n",
       "          0.0362965 ,  0.06618737],\n",
       "        [-0.03701735, -0.00033802, -0.0704418 , ...,  0.03943663,\n",
       "         -0.04403655,  0.00156662],\n",
       "        ...,\n",
       "        [ 0.07627191, -0.02212042,  0.15776184, ...,  0.04580488,\n",
       "         -0.01721851, -0.085394  ],\n",
       "        [-0.14078747,  0.18116046,  0.04034097, ..., -0.13630848,\n",
       "          0.06550199, -0.15144245],\n",
       "        [ 0.1979712 ,  0.16079883,  0.17803715, ..., -0.10385384,\n",
       "         -0.13559578, -0.14814465]], dtype=float32),\n",
       " array([[ 0.06496987,  0.10352723, -0.09923919, ...,  0.02075021,\n",
       "         -0.11723004, -0.03290828],\n",
       "        [ 0.03214165, -0.01640785,  0.00070669, ..., -0.07221732,\n",
       "         -0.06447964,  0.1683018 ],\n",
       "        [ 0.08040822,  0.12017541,  0.14055453, ..., -0.04560476,\n",
       "          0.03542775,  0.1716029 ],\n",
       "        ...,\n",
       "        [-0.07848   ,  0.19241083, -0.03856865, ..., -0.15091354,\n",
       "          0.12718412, -0.10142628],\n",
       "        [ 0.06754814,  0.0141635 ,  0.04304   , ...,  0.19291654,\n",
       "         -0.06236531, -0.07897131],\n",
       "        [-0.1591706 , -0.01223612,  0.02892835, ..., -0.06265195,\n",
       "         -0.04124688, -0.06025968]], dtype=float32),\n",
       " array([[ 0.01035001,  0.0726637 , -0.01822517, ..., -0.06391245,\n",
       "         -0.00666214,  0.09735555],\n",
       "        [-0.05152785,  0.10037593,  0.05957175, ..., -0.10237487,\n",
       "         -0.02160471, -0.0967463 ],\n",
       "        [-0.08096229,  0.1058345 ,  0.02554173, ..., -0.12348494,\n",
       "         -0.14687948,  0.01453229],\n",
       "        ...,\n",
       "        [ 0.09089069, -0.05281765, -0.01422909, ...,  0.14644353,\n",
       "          0.01925591, -0.09983748],\n",
       "        [-0.11926932, -0.02522574, -0.06740838, ...,  0.04793825,\n",
       "         -0.09092105,  0.07767066],\n",
       "        [-0.2277731 , -0.04809384,  0.0788063 , ..., -0.00382522,\n",
       "          0.13194959,  0.01284374]], dtype=float32),\n",
       " array([-0.03984064,  0.01892151, -0.04637865,  0.02742468, -0.02866347,\n",
       "        -0.03849945, -0.02913002, -0.05757362, -0.03996099,  0.00841557,\n",
       "        -0.04470462,  0.00610169, -0.0193133 , -0.0181464 , -0.04766075,\n",
       "        -0.01601086, -0.02426808, -0.00782081, -0.05901916, -0.06792117,\n",
       "        -0.03538453, -0.02426699, -0.03553186, -0.03907611, -0.0316581 ,\n",
       "         0.06852394, -0.04196478, -0.04538068, -0.03161255, -0.05327178,\n",
       "        -0.0068028 ,  0.0256241 , -0.02393083, -0.02004033, -0.02517273,\n",
       "        -0.04452105, -0.0995336 , -0.02701345, -0.00715374, -0.02315686,\n",
       "        -0.02793049, -0.00330962, -0.033443  , -0.05208742, -0.0159109 ,\n",
       "        -0.01611716, -0.01366393, -0.02548904,  0.044731  , -0.00858886,\n",
       "        -0.01591247, -0.05187838, -0.0527361 , -0.00694945, -0.0160027 ,\n",
       "         0.00544234, -0.03120379, -0.03514504, -0.05491771, -0.01146388,\n",
       "        -0.02044732, -0.00400009, -0.03774888, -0.02527478, -0.00060915,\n",
       "        -0.01038609, -0.03086112, -0.00312103, -0.00454446, -0.05469404,\n",
       "        -0.02065714, -0.02515125, -0.02588436, -0.0146477 , -0.03447707,\n",
       "        -0.02585535, -0.05992954, -0.02148828, -0.03092263, -0.05318238,\n",
       "         0.05200933,  0.01272015, -0.01062304,  0.03174231, -0.02319274,\n",
       "        -0.00338235, -0.00709572, -0.00282863, -0.01925712, -0.00099093,\n",
       "        -0.06029188,  0.01081453, -0.01091104,  0.000246  , -0.01094843,\n",
       "        -0.01024278, -0.03438703, -0.01587577, -0.02739613, -0.03750149,\n",
       "        -0.04158041, -0.03124197, -0.04085212, -0.05207389,  0.02530678,\n",
       "        -0.03727751, -0.01721651, -0.01791337, -0.00472611, -0.04036395,\n",
       "        -0.02986137, -0.01967003,  0.01433498, -0.05126237, -0.06097455,\n",
       "        -0.04563503, -0.03246955, -0.03660921,  0.00284241,  0.00141086,\n",
       "        -0.04774217, -0.01142233, -0.09857114, -0.03530594,  0.02137998,\n",
       "        -0.01207704, -0.04010779, -0.02386287], dtype=float32),\n",
       " array([[-5.28155327e-01],\n",
       "        [-6.63455576e-02],\n",
       "        [-1.77768860e-02],\n",
       "        [ 5.37881702e-02],\n",
       "        [-2.47895908e+00],\n",
       "        [ 1.06223434e-01],\n",
       "        [-5.57552040e-01],\n",
       "        [ 2.72527993e-01],\n",
       "        [ 7.24413395e-02],\n",
       "        [-6.10637926e-02],\n",
       "        [ 5.37627339e-01],\n",
       "        [ 1.92296267e-01],\n",
       "        [-4.20879647e-02],\n",
       "        [-1.68694258e-01],\n",
       "        [-6.96082273e-03],\n",
       "        [ 6.44358158e-01],\n",
       "        [-2.46126391e-03],\n",
       "        [-6.00901186e-01],\n",
       "        [-1.90194026e-01],\n",
       "        [ 1.04962826e+00],\n",
       "        [ 6.64707959e-01],\n",
       "        [ 6.56687379e-01],\n",
       "        [ 4.49587792e-01],\n",
       "        [-5.88781178e-01],\n",
       "        [-1.18901908e-01],\n",
       "        [-1.10977940e-01],\n",
       "        [-1.23489341e-02],\n",
       "        [ 6.95186853e-02],\n",
       "        [-2.49596611e-01],\n",
       "        [-2.38831237e-01],\n",
       "        [-1.89112946e-01],\n",
       "        [ 3.99112999e-02],\n",
       "        [-2.24969253e-01],\n",
       "        [ 1.10567003e-01],\n",
       "        [-6.44495487e-02],\n",
       "        [-5.76341271e-01],\n",
       "        [ 1.22905582e-01],\n",
       "        [-5.19298971e-01],\n",
       "        [-8.23285952e-02],\n",
       "        [ 3.32111344e-02],\n",
       "        [-8.62721875e-02],\n",
       "        [-4.76254635e-02],\n",
       "        [-7.37416819e-02],\n",
       "        [ 2.99091250e-01],\n",
       "        [ 3.23276550e-01],\n",
       "        [-4.57295537e-01],\n",
       "        [ 3.74518156e-01],\n",
       "        [-1.09935999e-01],\n",
       "        [-1.19915061e-01],\n",
       "        [-1.09975085e-01],\n",
       "        [-2.36006594e+00],\n",
       "        [-2.01789483e-01],\n",
       "        [-4.94320154e-01],\n",
       "        [ 1.28355905e-01],\n",
       "        [-1.65197998e-01],\n",
       "        [-2.31075212e-01],\n",
       "        [ 6.01625144e-02],\n",
       "        [-3.08765471e-01],\n",
       "        [-5.44423014e-02],\n",
       "        [ 1.44025290e+00],\n",
       "        [-1.25089139e-01],\n",
       "        [-4.72933084e-01],\n",
       "        [ 2.14009953e+00],\n",
       "        [ 1.13345236e-01],\n",
       "        [ 1.99889040e+00],\n",
       "        [-7.02036396e-02],\n",
       "        [ 8.97884592e-02],\n",
       "        [ 1.27516282e+00],\n",
       "        [-1.93760172e-01],\n",
       "        [ 3.08186561e-01],\n",
       "        [-1.40780076e-01],\n",
       "        [-2.02221036e-01],\n",
       "        [ 2.08063722e+00],\n",
       "        [-1.76345602e-01],\n",
       "        [ 1.47683233e-01],\n",
       "        [ 2.60462552e-01],\n",
       "        [-4.48451161e-01],\n",
       "        [ 1.65199503e-01],\n",
       "        [ 8.38586271e-01],\n",
       "        [-1.63140204e-02],\n",
       "        [-7.77180418e-02],\n",
       "        [-2.49831259e-01],\n",
       "        [-3.75625730e-01],\n",
       "        [ 4.03458536e-01],\n",
       "        [-1.84800282e-01],\n",
       "        [-2.05386877e-01],\n",
       "        [ 4.47461218e-01],\n",
       "        [ 1.38815135e-01],\n",
       "        [-2.63536006e-01],\n",
       "        [ 4.23468500e-01],\n",
       "        [-2.17987955e-01],\n",
       "        [ 1.95451126e-01],\n",
       "        [ 6.41285002e-01],\n",
       "        [ 2.04747692e-01],\n",
       "        [ 6.20270491e-01],\n",
       "        [ 5.32299936e-01],\n",
       "        [-2.38791823e-01],\n",
       "        [ 2.35956013e-01],\n",
       "        [-1.53828889e-01],\n",
       "        [-2.34879419e-01],\n",
       "        [ 8.34831670e-02],\n",
       "        [-9.16431665e-01],\n",
       "        [-3.86621058e-02],\n",
       "        [ 3.48957688e-01],\n",
       "        [ 5.19590527e-02],\n",
       "        [ 2.95390993e-01],\n",
       "        [ 8.18840340e-02],\n",
       "        [ 4.93426770e-01],\n",
       "        [ 9.56334651e-01],\n",
       "        [ 2.46941432e-01],\n",
       "        [-1.95116717e-02],\n",
       "        [-1.72456741e-01],\n",
       "        [ 1.25996649e-01],\n",
       "        [-8.62159669e-01],\n",
       "        [ 3.31344992e-01],\n",
       "        [ 1.41305006e+00],\n",
       "        [ 6.77272081e-01],\n",
       "        [ 8.40878248e-01],\n",
       "        [-1.05646268e-01],\n",
       "        [-7.22376347e-01],\n",
       "        [ 4.91720550e-02],\n",
       "        [ 2.18139797e-01],\n",
       "        [-2.89843511e-02],\n",
       "        [ 1.86219543e-01],\n",
       "        [-4.84402686e-01],\n",
       "        [ 1.54315501e-01],\n",
       "        [-3.27420197e-02],\n",
       "        [ 5.73076785e-01]], dtype=float32),\n",
       " array([1.750415], dtype=float32)]"
      ]
     },
     "execution_count": 5,
     "metadata": {},
     "output_type": "execute_result"
    }
   ],
   "source": [
    "model.get_weights()"
   ]
  },
  {
   "cell_type": "code",
   "execution_count": 6,
   "metadata": {},
   "outputs": [],
   "source": [
    "# Step 2: Helper Functions\n",
    "# Function to decode reviews\n",
    "def decode_review(encoded_review):\n",
    "    return ' '.join([reverse_word_index.get(i - 3, '?') for i in encoded_review])\n",
    "\n",
    "# Function to preprocess user input\n",
    "def preprocess_text(text):\n",
    "    words = text.lower().split()\n",
    "    encoded_review = [word_index.get(word, 2) + 3 for word in words]\n",
    "    padded_review = sequence.pad_sequences([encoded_review], maxlen=500)\n",
    "    return padded_review"
   ]
  },
  {
   "cell_type": "code",
   "execution_count": 7,
   "metadata": {},
   "outputs": [],
   "source": [
    "### Prediction  function\n",
    "\n",
    "def predict_sentiment(review):\n",
    "    preprocessed_input=preprocess_text(review)\n",
    "\n",
    "    prediction=model.predict(preprocessed_input)\n",
    "\n",
    "    sentiment = 'Positive' if prediction[0][0] > 0.5 else 'Negative'\n",
    "    \n",
    "    return sentiment, prediction[0][0]\n",
    "\n"
   ]
  },
  {
   "cell_type": "code",
   "execution_count": 8,
   "metadata": {},
   "outputs": [
    {
     "name": "stdout",
     "output_type": "stream",
     "text": [
      "1/1 [==============================] - 0s 294ms/step\n",
      "Review: This movie was fantastic! The acting was great and the plot was thrilling.\n",
      "Sentiment: Positive\n",
      "Prediction Score: 0.9342260956764221\n"
     ]
    }
   ],
   "source": [
    "# Step 4: User Input and Prediction\n",
    "# Example review for prediction\n",
    "example_review = \"This movie was fantastic! The acting was great and the plot was thrilling.\"\n",
    "\n",
    "sentiment,score=predict_sentiment(example_review)\n",
    "\n",
    "print(f'Review: {example_review}')\n",
    "print(f'Sentiment: {sentiment}')\n",
    "print(f'Prediction Score: {score}')"
   ]
  },
  {
   "cell_type": "code",
   "execution_count": null,
   "metadata": {},
   "outputs": [],
   "source": []
  },
  {
   "cell_type": "code",
   "execution_count": null,
   "metadata": {},
   "outputs": [],
   "source": []
  }
 ],
 "metadata": {
  "kernelspec": {
   "display_name": "Python 3",
   "language": "python",
   "name": "python3"
  },
  "language_info": {
   "codemirror_mode": {
    "name": "ipython",
    "version": 3
   },
   "file_extension": ".py",
   "mimetype": "text/x-python",
   "name": "python",
   "nbconvert_exporter": "python",
   "pygments_lexer": "ipython3",
   "version": "3.11.11"
  }
 },
 "nbformat": 4,
 "nbformat_minor": 2
}
