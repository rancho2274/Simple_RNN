{
 "cells": [
  {
   "cell_type": "code",
   "execution_count": 22,
   "metadata": {},
   "outputs": [],
   "source": [
    "from tensorflow.keras.preprocessing.text import one_hot\n"
   ]
  },
  {
   "cell_type": "code",
   "execution_count": 23,
   "metadata": {},
   "outputs": [],
   "source": [
    "### sentences\n",
    "sent=[  'the glass of milk',\n",
    "     'the glass of juice',\n",
    "     'the cup of tea',\n",
    "    'I am a good boy',\n",
    "     'I am a good developer',\n",
    "     'understand the meaning of words',\n",
    "     'your videos are good',]"
   ]
  },
  {
   "cell_type": "code",
   "execution_count": 24,
   "metadata": {},
   "outputs": [],
   "source": [
    "voc_size=10000\n"
   ]
  },
  {
   "cell_type": "code",
   "execution_count": 25,
   "metadata": {},
   "outputs": [
    {
     "data": {
      "text/plain": [
       "[[5862, 2105, 8373, 9799],\n",
       " [5862, 2105, 8373, 6296],\n",
       " [5862, 1882, 8373, 9114],\n",
       " [2949, 6128, 9259, 967, 2400],\n",
       " [2949, 6128, 9259, 967, 3351],\n",
       " [7055, 5862, 3781, 8373, 1466],\n",
       " [7609, 2673, 4453, 967]]"
      ]
     },
     "execution_count": 25,
     "metadata": {},
     "output_type": "execute_result"
    }
   ],
   "source": [
    "one_hot_repr=[one_hot(words, voc_size)for words in sent]\n",
    "one_hot_repr "
   ]
  },
  {
   "cell_type": "code",
   "execution_count": 26,
   "metadata": {},
   "outputs": [],
   "source": [
    "from tensorflow.keras.layers import Embedding \n",
    "# from tensorflow.keras.processing.sequence import pad_sequences\n",
    "from tensorflow.keras.utils import pad_sequences\n",
    "from tensorflow.keras.models import Sequential\n"
   ]
  },
  {
   "cell_type": "code",
   "execution_count": 27,
   "metadata": {},
   "outputs": [],
   "source": [
    "import numpy as np\n"
   ]
  },
  {
   "cell_type": "code",
   "execution_count": 28,
   "metadata": {},
   "outputs": [
    {
     "name": "stdout",
     "output_type": "stream",
     "text": [
      "[[   0    0    0    0 5862 2105 8373 9799]\n",
      " [   0    0    0    0 5862 2105 8373 6296]\n",
      " [   0    0    0    0 5862 1882 8373 9114]\n",
      " [   0    0    0 2949 6128 9259  967 2400]\n",
      " [   0    0    0 2949 6128 9259  967 3351]\n",
      " [   0    0    0 7055 5862 3781 8373 1466]\n",
      " [   0    0    0    0 7609 2673 4453  967]]\n"
     ]
    }
   ],
   "source": [
    "sent_length= 8\n",
    "embedded_docs=pad_sequences(one_hot_repr,padding='pre', maxlen=sent_length)\n",
    "print(embedded_docs)"
   ]
  },
  {
   "cell_type": "code",
   "execution_count": 29,
   "metadata": {},
   "outputs": [],
   "source": [
    "dim=10\n",
    "model=Sequential()\n",
    "model.add(Embedding(voc_size, dim, input_length=sent_length))\n",
    "model.compile('adam','mse')\n"
   ]
  },
  {
   "cell_type": "code",
   "execution_count": 30,
   "metadata": {},
   "outputs": [
    {
     "name": "stdout",
     "output_type": "stream",
     "text": [
      "Model: \"sequential_2\"\n",
      "_________________________________________________________________\n",
      " Layer (type)                Output Shape              Param #   \n",
      "=================================================================\n",
      " embedding_1 (Embedding)     (None, 8, 10)             100000    \n",
      "                                                                 \n",
      "=================================================================\n",
      "Total params: 100000 (390.62 KB)\n",
      "Trainable params: 100000 (390.62 KB)\n",
      "Non-trainable params: 0 (0.00 Byte)\n",
      "_________________________________________________________________\n"
     ]
    }
   ],
   "source": [
    "model.summary()\n"
   ]
  },
  {
   "cell_type": "code",
   "execution_count": 31,
   "metadata": {},
   "outputs": [
    {
     "data": {
      "text/plain": [
       "array([   0,    0,    0,    0, 5862, 2105, 8373, 9799])"
      ]
     },
     "execution_count": 31,
     "metadata": {},
     "output_type": "execute_result"
    }
   ],
   "source": [
    "embedded_docs[0]"
   ]
  },
  {
   "cell_type": "code",
   "execution_count": 32,
   "metadata": {},
   "outputs": [
    {
     "name": "stdout",
     "output_type": "stream",
     "text": [
      "1/1 [==============================] - 0s 64ms/step\n"
     ]
    },
    {
     "data": {
      "text/plain": [
       "array([[-1.2335815e-02, -2.3533309e-02, -2.7630663e-02, -2.5536681e-02,\n",
       "         7.6579824e-03, -3.8877353e-03, -1.5147410e-02,  1.2803007e-02,\n",
       "         2.7302075e-02, -4.1929435e-02],\n",
       "       [-1.2335815e-02, -2.3533309e-02, -2.7630663e-02, -2.5536681e-02,\n",
       "         7.6579824e-03, -3.8877353e-03, -1.5147410e-02,  1.2803007e-02,\n",
       "         2.7302075e-02, -4.1929435e-02],\n",
       "       [-1.2335815e-02, -2.3533309e-02, -2.7630663e-02, -2.5536681e-02,\n",
       "         7.6579824e-03, -3.8877353e-03, -1.5147410e-02,  1.2803007e-02,\n",
       "         2.7302075e-02, -4.1929435e-02],\n",
       "       [-1.2335815e-02, -2.3533309e-02, -2.7630663e-02, -2.5536681e-02,\n",
       "         7.6579824e-03, -3.8877353e-03, -1.5147410e-02,  1.2803007e-02,\n",
       "         2.7302075e-02, -4.1929435e-02],\n",
       "       [ 1.8872730e-03,  3.4769129e-02,  6.7943446e-03, -1.7377030e-02,\n",
       "         4.0757656e-03,  3.2741200e-02, -4.0681362e-03, -4.8591554e-02,\n",
       "        -2.7859498e-02,  1.8342409e-02],\n",
       "       [-2.4316585e-02,  1.5989471e-02, -7.6023117e-03,  4.6290457e-05,\n",
       "        -3.9644323e-02, -2.9232098e-02,  1.6161654e-02,  4.8946034e-02,\n",
       "        -1.2235176e-02,  4.1240681e-02],\n",
       "       [-2.1027315e-02, -2.6300168e-02,  4.1672062e-02,  1.5125070e-02,\n",
       "         4.7372792e-02,  4.5874242e-02, -4.0079854e-02, -2.4498452e-02,\n",
       "         2.0485852e-02,  3.8609933e-02],\n",
       "       [-2.8484130e-02, -1.8284570e-02, -3.0035151e-02, -4.9737621e-02,\n",
       "         1.7412845e-02, -5.4612271e-03,  4.2460803e-02,  4.0052745e-02,\n",
       "         1.7065350e-02,  1.9667968e-03]], dtype=float32)"
      ]
     },
     "execution_count": 32,
     "metadata": {},
     "output_type": "execute_result"
    }
   ],
   "source": [
    "model.predict(embedded_docs[0])"
   ]
  },
  {
   "cell_type": "code",
   "execution_count": null,
   "metadata": {},
   "outputs": [
    {
     "ename": "",
     "evalue": "",
     "output_type": "error",
     "traceback": [
      "\u001b[1;31mnotebook controller is DISPOSED. \n",
      "\u001b[1;31mView Jupyter <a href='command:jupyter.viewOutput'>log</a> for further details."
     ]
    },
    {
     "ename": "",
     "evalue": "",
     "output_type": "error",
     "traceback": [
      "\u001b[1;31mnotebook controller is DISPOSED. \n",
      "\u001b[1;31mView Jupyter <a href='command:jupyter.viewOutput'>log</a> for further details."
     ]
    },
    {
     "ename": "",
     "evalue": "",
     "output_type": "error",
     "traceback": [
      "\u001b[1;31mnotebook controller is DISPOSED. \n",
      "\u001b[1;31mView Jupyter <a href='command:jupyter.viewOutput'>log</a> for further details."
     ]
    }
   ],
   "source": []
  },
  {
   "cell_type": "code",
   "execution_count": null,
   "metadata": {},
   "outputs": [
    {
     "ename": "",
     "evalue": "",
     "output_type": "error",
     "traceback": [
      "\u001b[1;31mnotebook controller is DISPOSED. \n",
      "\u001b[1;31mView Jupyter <a href='command:jupyter.viewOutput'>log</a> for further details."
     ]
    },
    {
     "ename": "",
     "evalue": "",
     "output_type": "error",
     "traceback": [
      "\u001b[1;31mnotebook controller is DISPOSED. \n",
      "\u001b[1;31mView Jupyter <a href='command:jupyter.viewOutput'>log</a> for further details."
     ]
    },
    {
     "ename": "",
     "evalue": "",
     "output_type": "error",
     "traceback": [
      "\u001b[1;31mnotebook controller is DISPOSED. \n",
      "\u001b[1;31mView Jupyter <a href='command:jupyter.viewOutput'>log</a> for further details."
     ]
    }
   ],
   "source": []
  }
 ],
 "metadata": {
  "kernelspec": {
   "display_name": "Python 3",
   "language": "python",
   "name": "python3"
  },
  "language_info": {
   "codemirror_mode": {
    "name": "ipython",
    "version": 3
   },
   "file_extension": ".py",
   "mimetype": "text/x-python",
   "name": "python",
   "nbconvert_exporter": "python",
   "pygments_lexer": "ipython3",
   "version": "3.11.11"
  }
 },
 "nbformat": 4,
 "nbformat_minor": 2
}
